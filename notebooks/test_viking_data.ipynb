{
 "cells": [
  {
   "cell_type": "markdown",
   "id": "e4281614-5bfe-4ba3-bcd5-d6678dc13ba8",
   "metadata": {},
   "source": [
    "Calculate the max value for all data in all downloaded files."
   ]
  },
  {
   "cell_type": "code",
   "execution_count": null,
   "id": "f09b4191-2d20-4a0e-9ff8-6c07b31f2ff5",
   "metadata": {},
   "outputs": [],
   "source": [
    "import xarray as xr"
   ]
  },
  {
   "cell_type": "code",
   "execution_count": null,
   "id": "b58384ec-6602-40f2-af1c-b0d2bda73b1e",
   "metadata": {},
   "outputs": [],
   "source": [
    "from pathlib import Path"
   ]
  },
  {
   "cell_type": "code",
   "execution_count": null,
   "id": "99e5fcf2-f000-4887-a799-169232a27fc8",
   "metadata": {},
   "outputs": [],
   "source": [
    "data_path = \"/work/bk1450/b381575/data/VIKING20XJRAshort/\""
   ]
  },
  {
   "cell_type": "code",
   "execution_count": null,
   "id": "5ed38827-a795-43e7-b658-d0a38138946e",
   "metadata": {},
   "outputs": [],
   "source": [
    "%%time\n",
    "dsT = xr.open_mfdataset(\n",
    "    sorted(Path(data_path).glob(\"1_*_grid_T.nc\")),\n",
    "    chunks={\"time_counter\": 1, \"y\": -1, \"x\": -1},\n",
    "    decode_cf=False,\n",
    ")"
   ]
  },
  {
   "cell_type": "code",
   "execution_count": null,
   "id": "c0622168-390a-433e-985e-3a12f5a24feb",
   "metadata": {},
   "outputs": [],
   "source": [
    "dsT"
   ]
  },
  {
   "cell_type": "code",
   "execution_count": null,
   "id": "b78a7eff-8c3d-41dc-bae9-55dd3555d752",
   "metadata": {},
   "outputs": [],
   "source": [
    "%%time\n",
    "dsU = xr.open_mfdataset(\n",
    "    sorted(Path(data_path).glob(\"1_*_grid_U.nc\")),\n",
    "    chunks={\"time_counter\": 1, \"y\": -1, \"x\": -1},\n",
    "    decode_cf=False,\n",
    ")"
   ]
  },
  {
   "cell_type": "code",
   "execution_count": null,
   "id": "0f1353de-3cc4-47f1-be1f-65e8ac89df11",
   "metadata": {},
   "outputs": [],
   "source": [
    "dsU"
   ]
  },
  {
   "cell_type": "code",
   "execution_count": null,
   "id": "084a54ca-9f3a-478e-a209-dc93546fae5d",
   "metadata": {},
   "outputs": [],
   "source": [
    "%%time\n",
    "dsV = xr.open_mfdataset(\n",
    "    sorted(Path(data_path).glob(\"1_*_grid_V.nc\")),\n",
    "    chunks={\"time_counter\": 1, \"y\": -1, \"x\": -1},\n",
    "    decode_cf=False,\n",
    ")"
   ]
  },
  {
   "cell_type": "code",
   "execution_count": null,
   "id": "b7300c19-7ef5-43ab-a807-bc4ddd846541",
   "metadata": {},
   "outputs": [],
   "source": [
    "dsV"
   ]
  },
  {
   "cell_type": "code",
   "execution_count": null,
   "id": "f0a8cbb8-e1e4-4989-8c1d-9d3bb9b86190",
   "metadata": {},
   "outputs": [],
   "source": [
    "from dask.distributed import Client\n",
    "\n",
    "client = Client(n_workers=16, threads_per_worker=2, memory_limit=6e9)\n",
    "client"
   ]
  },
  {
   "cell_type": "code",
   "execution_count": null,
   "id": "7f278c40-0ad9-4a5a-88d8-ba0982d0573a",
   "metadata": {},
   "outputs": [],
   "source": [
    "%%time\n",
    "\n",
    "dsT.max().compute()"
   ]
  },
  {
   "cell_type": "code",
   "execution_count": null,
   "id": "47928be3-1788-4056-9a94-854459dddb8f",
   "metadata": {},
   "outputs": [],
   "source": [
    "%%time\n",
    "\n",
    "dsU.max().compute()"
   ]
  },
  {
   "cell_type": "code",
   "execution_count": null,
   "id": "ff319c6d-1b89-41c0-a027-97d2dea84ab0",
   "metadata": {},
   "outputs": [],
   "source": [
    "%%time\n",
    "\n",
    "dsV.max().compute()"
   ]
  },
  {
   "cell_type": "code",
   "execution_count": null,
   "id": "c1c269df-73ca-4955-ba5b-8d6793234842",
   "metadata": {},
   "outputs": [],
   "source": [
    "!du -sh /work/bk1450/b381575/data/VIKING20XJRAshort/"
   ]
  }
 ],
 "metadata": {
  "kernelspec": {
   "display_name": "1 Python 3 (based on the module python3/2023.01)",
   "language": "python",
   "name": "python3_2023_01"
  },
  "language_info": {
   "codemirror_mode": {
    "name": "ipython",
    "version": 3
   },
   "file_extension": ".py",
   "mimetype": "text/x-python",
   "name": "python",
   "nbconvert_exporter": "python",
   "pygments_lexer": "ipython3",
   "version": "3.10.10"
  }
 },
 "nbformat": 4,
 "nbformat_minor": 5
}
